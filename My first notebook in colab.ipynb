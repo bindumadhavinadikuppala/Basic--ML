{
  "nbformat": 4,
  "nbformat_minor": 0,
  "metadata": {
    "colab": {
      "name": "Untitled0.ipynb",
      "provenance": [],
      "authorship_tag": "ABX9TyOpNClPxpvFQcis14BkK4IQ",
      "include_colab_link": true
    },
    "kernelspec": {
      "name": "python3",
      "display_name": "Python 3"
    },
    "language_info": {
      "name": "python"
    }
  },
  "cells": [
    {
      "cell_type": "markdown",
      "metadata": {
        "id": "view-in-github",
        "colab_type": "text"
      },
      "source": [
        "<a href=\"https://colab.research.google.com/github/bindumadhavinadikuppala/Basic--ML/blob/main/My%20first%20notebook%20in%20colab.ipynb\" target=\"_parent\"><img src=\"https://colab.research.google.com/assets/colab-badge.svg\" alt=\"Open In Colab\"/></a>"
      ]
    },
    {
      "cell_type": "markdown",
      "metadata": {
        "id": "HIHIP49QB0QQ"
      },
      "source": [
        "                EVEN OR ODD"
      ]
    },
    {
      "cell_type": "code",
      "metadata": {
        "colab": {
          "base_uri": "https://localhost:8080/"
        },
        "id": "pgOdWHNhaX-F",
        "outputId": "54101797-3a4a-4991-cbdc-1c6efdf10793"
      },
      "source": [
        "n=int(input())\n",
        "if (n%2==0):\n",
        "    print(\"even\")\n",
        "else:\n",
        "    print(\"odd\")"
      ],
      "execution_count": null,
      "outputs": [
        {
          "output_type": "stream",
          "text": [
            "14\n",
            "even\n"
          ],
          "name": "stdout"
        }
      ]
    },
    {
      "cell_type": "markdown",
      "metadata": {
        "id": "EDTx2opE0Fs0"
      },
      "source": [
        " Explanation:\n",
        " \n",
        "1)This is the program which determines whether the given number is even or odd\n",
        " \n",
        "2)To find whether the number is even or odd an input must be considered \n",
        " \n",
        "3)Here n is considered as an input.Since the number is under integer category the keyword int is used\n",
        " \n",
        "4)The condition for a number to become even is when it is divided by 2 the remainder must be 0 or the number will be a odd number\n",
        " \n",
        "5)Here if-else condition is considered\n",
        " \n",
        "6)Also here to we use the keyword print to get the desired output\n",
        " \n",
        "7)14 is given as input and has been executed which gave an output even"
      ]
    },
    {
      "cell_type": "markdown",
      "metadata": {
        "id": "tYFXVIeiBZ44"
      },
      "source": [
        "         FACTORIAL OF A GIVEN NUMBER"
      ]
    },
    {
      "cell_type": "code",
      "metadata": {
        "colab": {
          "base_uri": "https://localhost:8080/"
        },
        "id": "rQDHFxGA62SD",
        "outputId": "fb852ad5-6163-4ba3-e97f-07d005b312cf"
      },
      "source": [
        "n=int(input())\n",
        "fact=1\n",
        "for i in range(1,n+1):\n",
        "    fact=fact*i\n",
        "print(fact)"
      ],
      "execution_count": 16,
      "outputs": [
        {
          "output_type": "stream",
          "text": [
            "7\n",
            "5040\n"
          ],
          "name": "stdout"
        }
      ]
    },
    {
      "cell_type": "markdown",
      "metadata": {
        "id": "e7-6D-My78ZH"
      },
      "source": [
        " Explanation:\n",
        " \n",
        "1)To find the factorial of a given number the above program is used\n",
        " \n",
        "2)To find the factorial an input must be read,here n is considered as an input.Since it is integer keyword int is used\n",
        " \n",
        "3)We have set fact value as 1 so 1 is stored in fact\n",
        " \n",
        "4)In the program we used for loop and had taken the range of i from 1 to n+1\n",
        " \n",
        "5)Now each value of i is multiplied with fact and stores the value\n",
        " \n",
        "6)The keyword print is used to print the factorial of given number once the loop is ended\n",
        " \n",
        "7)7 is given as input for the above program and had been executed which gave an output as 5040"
      ]
    },
    {
      "cell_type": "markdown",
      "metadata": {
        "id": "jjsl7DxkBLN-"
      },
      "source": [
        "          SUM OF FIRST n NATURAL NUMBERS"
      ]
    },
    {
      "cell_type": "code",
      "metadata": {
        "colab": {
          "base_uri": "https://localhost:8080/"
        },
        "id": "Bcmbp6yK-viw",
        "outputId": "994ad012-bd4e-4fc2-8d4d-e7f708f20b75"
      },
      "source": [
        "n=int(input())\n",
        "sum=0\n",
        "for i in range (1,n+1):\n",
        "   sum=sum+i\n",
        "   i=i+1\n",
        "print(sum)"
      ],
      "execution_count": 17,
      "outputs": [
        {
          "output_type": "stream",
          "text": [
            "9\n",
            "45\n"
          ],
          "name": "stdout"
        }
      ]
    },
    {
      "cell_type": "markdown",
      "metadata": {
        "id": "F7bAbVt6_N1u"
      },
      "source": [
        "Explanation:\n",
        " \n",
        "1)To find the sum of first n natural numbers the above program is used\n",
        " \n",
        "2)A input n is read,since an integer is to be read keyword int is considered\n",
        " \n",
        "3)We have set the value of sum as 0\n",
        " \n",
        "4)In the program for loop is used and the range of i is taken from 1 to n+1\n",
        " \n",
        "5)Now each value of i is added to sum and the values are stored\n",
        " \n",
        "6)The keyword print is used to print the sum of first n natural numbers once the loop is ended\n",
        " \n",
        "7)9 is given as input and the program is executed which gave an output of 45"
      ]
    }
  ]
}